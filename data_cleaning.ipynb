{
 "cells": [
  {
   "cell_type": "code",
   "execution_count": 23,
   "id": "805f63e6",
   "metadata": {},
   "outputs": [],
   "source": [
    "with open('src/main/resources/nNet/data.csv') as file:\n",
    "    data = file.readlines()\n",
    "    \n",
    "clean = []"
   ]
  },
  {
   "cell_type": "code",
   "execution_count": 24,
   "id": "2f8a53e9",
   "metadata": {},
   "outputs": [],
   "source": [
    "for line in data:\n",
    "    \n",
    "    if not 'NaN' in line:\n",
    "        clean.append(line)"
   ]
  },
  {
   "cell_type": "code",
   "execution_count": 25,
   "id": "120244af",
   "metadata": {},
   "outputs": [],
   "source": [
    "with open('src/main/resources/nNet/data.csv', 'w') as file:\n",
    "    file.writelines(clean)"
   ]
  },
  {
   "cell_type": "code",
   "execution_count": null,
   "id": "95f5fbfc",
   "metadata": {},
   "outputs": [],
   "source": []
  }
 ],
 "metadata": {
  "kernelspec": {
   "display_name": "Python 3 (ipykernel)",
   "language": "python",
   "name": "python3"
  },
  "language_info": {
   "codemirror_mode": {
    "name": "ipython",
    "version": 3
   },
   "file_extension": ".py",
   "mimetype": "text/x-python",
   "name": "python",
   "nbconvert_exporter": "python",
   "pygments_lexer": "ipython3",
   "version": "3.10.4"
  }
 },
 "nbformat": 4,
 "nbformat_minor": 5
}
